{
 "cells": [
  {
   "cell_type": "markdown",
   "id": "fb829fdd",
   "metadata": {},
   "source": [
    "## Carga de librerías"
   ]
  },
  {
   "cell_type": "code",
   "execution_count": 4,
   "id": "f00605ac",
   "metadata": {},
   "outputs": [],
   "source": [
    "import pandas as pd\n",
    "import os"
   ]
  },
  {
   "cell_type": "markdown",
   "id": "ad73cbef",
   "metadata": {},
   "source": [
    "## Carga de Datos"
   ]
  },
  {
   "cell_type": "code",
   "execution_count": 21,
   "id": "374d906b",
   "metadata": {},
   "outputs": [
    {
     "data": {
      "text/plain": [
       "array([ 40.,  46.,  68.,  60., 103., 130., 138.,  66.,  58.,  72.,  67.,\n",
       "       140.,  63., 118.,  69., 113.,  55.,  44.,  64., 133.,  47., 162.,\n",
       "       170.,  50., 139., 186.,  43., 167., 152., 137., 163.,  53., 141.,\n",
       "        51.,  45., 108., 176., 145., 136.,  73., 106.,  62.,  56., 115.,\n",
       "       124.,  65., 125., 132.,  49.,  76., 185.,  75., 122., 196., 131.,\n",
       "       111., 128.,  52., 120.,  74., 116., 126.,  70., 178., 166., 143.,\n",
       "        57., 159., 121., 164., 142.,  59., 117., 194.,  54.,  42., 110.,\n",
       "        61., 144., 149., 134., 148., 112.,  48., 171., 153., 198., 195.,\n",
       "       107., 156., 109.,  77., 127., 119., 114., 158., 105., 135.,  99.,\n",
       "       157.,  nan, 147.,  71.,  85., 193.,  80.,  83., 155., 100., 161.,\n",
       "       154., 129., 181., 104., 192., 146.,  41., 165., 123., 182., 151.,\n",
       "       189., 150., 172., 101., 190.,  82., 160., 169., 199.,  78., 168.,\n",
       "        95., 102., 174., 200.,  81.,  98., 175.,  96.,  93.,  79., 173.,\n",
       "       187., 179., 188., 180.,  84., 191., 183., 184., 177., 197.,  86.,\n",
       "        97.,  94.,  90.,  89.,  88.,  87.,  91.,  92.])"
      ]
     },
     "execution_count": 21,
     "metadata": {},
     "output_type": "execute_result"
    }
   ],
   "source": [
    "path = \"../datasets/\"\n",
    "archivo = \"dataset.csv\"\n",
    "df = pd.read_csv(os.path.join(path, archivo))\n",
    "df[\"map_apache\"].unique()\n"
   ]
  }
 ],
 "metadata": {
  "kernelspec": {
   "display_name": "health",
   "language": "python",
   "name": "python3"
  },
  "language_info": {
   "codemirror_mode": {
    "name": "ipython",
    "version": 3
   },
   "file_extension": ".py",
   "mimetype": "text/x-python",
   "name": "python",
   "nbconvert_exporter": "python",
   "pygments_lexer": "ipython3",
   "version": "3.12.10"
  }
 },
 "nbformat": 4,
 "nbformat_minor": 5
}
